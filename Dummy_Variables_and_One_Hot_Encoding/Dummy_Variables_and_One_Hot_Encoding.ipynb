{
 "cells": [
  {
   "cell_type": "markdown",
   "metadata": {},
   "source": [
    "# Introduction to Dummy Variables & One Hot Encoding\n",
    "Link to the Youtube video tutorial: https://www.youtube.com/watch?v=9yl6-HEY7_s&list=PLeo1K3hjS3uvCeTYTeyfe0-rN5r8zn9rw&index=6\n",
    "\n",
    "Categorical variable explanation: An indenpendent variable (feature) of this training data, called town, is a categorical variable. \n",
    "![title](hidden\\categorical_variable.png)\n",
    "\n",
    "\n",
    "## Load training data"
   ]
  },
  {
   "cell_type": "code",
   "execution_count": 1,
   "metadata": {},
   "outputs": [
    {
     "name": "stdout",
     "output_type": "stream",
     "text": [
      "               town  area   price\n",
      "0   monroe township  2600  550000\n",
      "1   monroe township  3000  565000\n",
      "2   monroe township  3200  610000\n",
      "3   monroe township  3600  680000\n",
      "4   monroe township  4000  725000\n",
      "5      west windsor  2600  585000\n",
      "6      west windsor  2800  615000\n",
      "7      west windsor  3300  650000\n",
      "8      west windsor  3600  710000\n",
      "9       robinsville  2600  575000\n",
      "10      robinsville  2900  600000\n",
      "11      robinsville  3100  620000\n",
      "12      robinsville  3600  695000\n"
     ]
    }
   ],
   "source": [
    "import pandas as pd\n",
    "\n",
    "df = pd.read_csv('homeprices.csv') # Load the training data from CSV file into pandas data frame called df. The category variable (object label) of this training dataset is the town\n",
    "print(df)"
   ]
  },
  {
   "cell_type": "markdown",
   "metadata": {},
   "source": [
    "### Training data preprocessing option 1)   Create dummy variables using pandas get_dummies method\n",
    "\n",
    "#### Create dummy variables for categorical variable using pandas get_dummies method\n",
    "\n",
    "Town is the categorical variable in this training dataset"
   ]
  },
  {
   "cell_type": "code",
   "execution_count": 2,
   "metadata": {},
   "outputs": [
    {
     "name": "stdout",
     "output_type": "stream",
     "text": [
      "    monroe township  robinsville  west windsor\n",
      "0                 1            0             0\n",
      "1                 1            0             0\n",
      "2                 1            0             0\n",
      "3                 1            0             0\n",
      "4                 1            0             0\n",
      "5                 0            0             1\n",
      "6                 0            0             1\n",
      "7                 0            0             1\n",
      "8                 0            0             1\n",
      "9                 0            1             0\n",
      "10                0            1             0\n",
      "11                0            1             0\n",
      "12                0            1             0\n"
     ]
    }
   ],
   "source": [
    "# get_dummies() get the dummy variables for each entry of the category variable (object label) under the category column specified as the input. dtype refers to the type of content represents the dummy variables. int for boolean (1/0), not mentioned for words (True/False) \n",
    "dummies = pd.get_dummies(df.town, dtype=int) # get the dummy variables for each entry of the category variable (object label) in the format of data frame. Then store this data frame into a variable called dummies\n",
    "print(dummies)\n"
   ]
  },
  {
   "cell_type": "code",
   "execution_count": 3,
   "metadata": {},
   "outputs": [
    {
     "name": "stdout",
     "output_type": "stream",
     "text": [
      "               town  area   price  monroe township  robinsville  west windsor\n",
      "0   monroe township  2600  550000                1            0             0\n",
      "1   monroe township  3000  565000                1            0             0\n",
      "2   monroe township  3200  610000                1            0             0\n",
      "3   monroe township  3600  680000                1            0             0\n",
      "4   monroe township  4000  725000                1            0             0\n",
      "5      west windsor  2600  585000                0            0             1\n",
      "6      west windsor  2800  615000                0            0             1\n",
      "7      west windsor  3300  650000                0            0             1\n",
      "8      west windsor  3600  710000                0            0             1\n",
      "9       robinsville  2600  575000                0            1             0\n",
      "10      robinsville  2900  600000                0            1             0\n",
      "11      robinsville  3100  620000                0            1             0\n",
      "12      robinsville  3600  695000                0            1             0\n"
     ]
    }
   ],
   "source": [
    "# concat() join two data frames. axis refers to the method to join the two data frames.\n",
    "merged = pd.concat([df,dummies],axis='columns') # join the df and dummies data frames, by placing the 1st column of dummies data frame after the last column of df data frame\n",
    "print(merged)"
   ]
  },
  {
   "cell_type": "code",
   "execution_count": 4,
   "metadata": {},
   "outputs": [
    {
     "name": "stdout",
     "output_type": "stream",
     "text": [
      "    area   price  monroe township  robinsville\n",
      "0   2600  550000                1            0\n",
      "1   3000  565000                1            0\n",
      "2   3200  610000                1            0\n",
      "3   3600  680000                1            0\n",
      "4   4000  725000                1            0\n",
      "5   2600  585000                0            0\n",
      "6   2800  615000                0            0\n",
      "7   3300  650000                0            0\n",
      "8   3600  710000                0            0\n",
      "9   2600  575000                0            1\n",
      "10  2900  600000                0            1\n",
      "11  3100  620000                0            1\n",
      "12  3600  695000                0            1\n"
     ]
    }
   ],
   "source": [
    "final = merged.drop(['town','west windsor'], axis = 'columns') # drop/remove the columns called town and west windsor from merged data frame, then save this data frame to variable called final. We drop town column because it contains word as content and will not be used by the machine learning model. We drop a dummy variable column to prevent dummy variable trap (can google this for more information)\n",
    "print(final)\n",
    "\n"
   ]
  },
  {
   "cell_type": "markdown",
   "metadata": {},
   "source": [
    "#### Develop a linear regression model\n",
    "\n",
    "Predict the dependent variable (price) based on the independent variables (area and hometown name)"
   ]
  },
  {
   "cell_type": "code",
   "execution_count": 5,
   "metadata": {},
   "outputs": [],
   "source": [
    "from sklearn.linear_model import LinearRegression\n",
    "\n",
    "model = LinearRegression() # created a linear regression model"
   ]
  },
  {
   "cell_type": "code",
   "execution_count": 6,
   "metadata": {},
   "outputs": [
    {
     "name": "stdout",
     "output_type": "stream",
     "text": [
      "    area  monroe township  robinsville\n",
      "0   2600                1            0\n",
      "1   3000                1            0\n",
      "2   3200                1            0\n",
      "3   3600                1            0\n",
      "4   4000                1            0\n",
      "5   2600                0            0\n",
      "6   2800                0            0\n",
      "7   3300                0            0\n",
      "8   3600                0            0\n",
      "9   2600                0            1\n",
      "10  2900                0            1\n",
      "11  3100                0            1\n",
      "12  3600                0            1\n"
     ]
    }
   ],
   "source": [
    "# Prepare independent variable / feature of the training data\n",
    "X = final.drop('price', axis='columns') # drop the price column from the data frame called final, then assign the remaining columns to a variable called X. When drop only 1 column, the column doesn't need enclosed by [], except when drop at least 2 columns.\n",
    "print(X) # [[town encoder value 1,town encoder value 2]] -> [[1,0]] for monroe township; [[0,0]] for west windsor; [[0,1]] for robinsville\n"
   ]
  },
  {
   "cell_type": "code",
   "execution_count": 7,
   "metadata": {},
   "outputs": [
    {
     "name": "stdout",
     "output_type": "stream",
     "text": [
      "0     550000\n",
      "1     565000\n",
      "2     610000\n",
      "3     680000\n",
      "4     725000\n",
      "5     585000\n",
      "6     615000\n",
      "7     650000\n",
      "8     710000\n",
      "9     575000\n",
      "10    600000\n",
      "11    620000\n",
      "12    695000\n",
      "Name: price, dtype: int64\n"
     ]
    }
   ],
   "source": [
    "# Prepare dependent variable / ground truth of the training data\n",
    "Y = final.price # assign only price column to a variable called Y\n",
    "print(Y)\n"
   ]
  },
  {
   "cell_type": "code",
   "execution_count": 8,
   "metadata": {},
   "outputs": [
    {
     "name": "stdout",
     "output_type": "stream",
     "text": [
      "0.9573929037221872\n"
     ]
    }
   ],
   "source": [
    "model.fit(X,Y) # train the machine learning model (linear regression model)\n",
    "\n",
    "print(model.score(X,Y)) # calculate the score/performance of the trained model. It firstly calculates the predicted values for all rows (instances) in X, then compare the predicted values with the actual/ground truth values in Y. Then, use some formula to calculate the score."
   ]
  },
  {
   "cell_type": "markdown",
   "metadata": {},
   "source": [
    "#### Apply the trained machine learning model (linear regression model)"
   ]
  },
  {
   "cell_type": "code",
   "execution_count": 9,
   "metadata": {},
   "outputs": [
    {
     "name": "stdout",
     "output_type": "stream",
     "text": [
      "[590775.63964739]\n"
     ]
    },
    {
     "name": "stderr",
     "output_type": "stream",
     "text": [
      "c:\\Users\\weiyo\\AppData\\Local\\Programs\\Python\\Python312\\Lib\\site-packages\\sklearn\\base.py:493: UserWarning: X does not have valid feature names, but LinearRegression was fitted with feature names\n",
      "  warnings.warn(\n"
     ]
    }
   ],
   "source": [
    "print(model.predict([[2800,0,1]])) # predict the price of a home with area of 2800 sqr ft in hometown of robinsville). According to the independent variable format used in training, [[area,town encoder value 1,town encoder value 2]]"
   ]
  },
  {
   "cell_type": "code",
   "execution_count": 10,
   "metadata": {},
   "outputs": [
    {
     "name": "stdout",
     "output_type": "stream",
     "text": [
      "[681241.66845839]\n"
     ]
    },
    {
     "name": "stderr",
     "output_type": "stream",
     "text": [
      "c:\\Users\\weiyo\\AppData\\Local\\Programs\\Python\\Python312\\Lib\\site-packages\\sklearn\\base.py:493: UserWarning: X does not have valid feature names, but LinearRegression was fitted with feature names\n",
      "  warnings.warn(\n"
     ]
    }
   ],
   "source": [
    "print(model.predict([[3400,0,0]])) # predict the price of a home with area of 3400 sqr ft in hometown of west windsor). According to the independent variable format used in training, [[area,town encoder value 1,town encoder value 2]]\n"
   ]
  },
  {
   "cell_type": "markdown",
   "metadata": {},
   "source": [
    "###  Training data preprocessing option 2)    Create dummy variables using one hot encoder method\n",
    "\n",
    "#### Encode the data of categorical variable into a unique numerical representation using label encoder\n",
    "\n",
    "Town is the categorical variable in this training dataset"
   ]
  },
  {
   "cell_type": "code",
   "execution_count": 11,
   "metadata": {},
   "outputs": [
    {
     "name": "stdout",
     "output_type": "stream",
     "text": [
      "    town  area   price\n",
      "0      0  2600  550000\n",
      "1      0  3000  565000\n",
      "2      0  3200  610000\n",
      "3      0  3600  680000\n",
      "4      0  4000  725000\n",
      "5      2  2600  585000\n",
      "6      2  2800  615000\n",
      "7      2  3300  650000\n",
      "8      2  3600  710000\n",
      "9      1  2600  575000\n",
      "10     1  2900  600000\n",
      "11     1  3100  620000\n",
      "12     1  3600  695000\n"
     ]
    }
   ],
   "source": [
    "from sklearn.preprocessing import LabelEncoder\n",
    "\n",
    "le = LabelEncoder() # create label encoder\n",
    "\n",
    "dfle = df # create a new data frame which has the exactly same content as df data frame\n",
    "# le.fit_transform() # takes the label column (category column) as an input, then return unique numerical value as representation for each label under the label column\n",
    "dfle.town = le.fit_transform(dfle.town) # takes the label column (EG: town) as an input, then return unique numerical value as representation for each label (EG: monroe township, robinsville, west windsor) under the label column. Then, assign back to the data frame.\n",
    "print(dfle) # shows that after one hot label encoding technique, 0, 1, and 2 represent monroe township, west windsor, and robinsville respectively\n",
    "\n"
   ]
  },
  {
   "cell_type": "code",
   "execution_count": 12,
   "metadata": {},
   "outputs": [
    {
     "name": "stdout",
     "output_type": "stream",
     "text": [
      "[[   0 2600]\n",
      " [   0 3000]\n",
      " [   0 3200]\n",
      " [   0 3600]\n",
      " [   0 4000]\n",
      " [   2 2600]\n",
      " [   2 2800]\n",
      " [   2 3300]\n",
      " [   2 3600]\n",
      " [   1 2600]\n",
      " [   1 2900]\n",
      " [   1 3100]\n",
      " [   1 3600]]\n"
     ]
    }
   ],
   "source": [
    "# Prepare independent variable / feature of the training data\n",
    "X_ohe = dfle[['town','area']].values # .values convert the data frame into 2D array format. Load the independent variables to variable X_ohe. When accessing at least 2 columns of a data frame, need [['columnname1','columnname2',...]]. When accessing only 1 column of a data frame, just use dataframe_name.column_name\n",
    "print(X_ohe)"
   ]
  },
  {
   "cell_type": "code",
   "execution_count": 13,
   "metadata": {},
   "outputs": [
    {
     "name": "stdout",
     "output_type": "stream",
     "text": [
      "0     550000\n",
      "1     565000\n",
      "2     610000\n",
      "3     680000\n",
      "4     725000\n",
      "5     585000\n",
      "6     615000\n",
      "7     650000\n",
      "8     710000\n",
      "9     575000\n",
      "10    600000\n",
      "11    620000\n",
      "12    695000\n",
      "Name: price, dtype: int64\n"
     ]
    }
   ],
   "source": [
    "# Prepare dependent variable / ground truth of the training data\n",
    "Y_ohe = dfle.price # Load the dependent variables to variable Y_ohe.\n",
    "print(Y_ohe)"
   ]
  },
  {
   "cell_type": "markdown",
   "metadata": {},
   "source": [
    "#### Create dummy variables for categorical variable using one hot encoder method\n",
    "\n",
    "Town is the categorical variable in this training dataset\n",
    "\n",
    "More information regarding how to handle categorical data with ColumnTransform and OneHotEncoding:\n",
    "1) https://www.youtube.com/watch?v=ZS0hzcA5w9I\n",
    "2) https://scikit-learn.org/stable/modules/generated/sklearn.compose.ColumnTransformer.html\n"
   ]
  },
  {
   "cell_type": "code",
   "execution_count": 14,
   "metadata": {},
   "outputs": [
    {
     "name": "stdout",
     "output_type": "stream",
     "text": [
      "[[1.0e+00 0.0e+00 0.0e+00 2.6e+03]\n",
      " [1.0e+00 0.0e+00 0.0e+00 3.0e+03]\n",
      " [1.0e+00 0.0e+00 0.0e+00 3.2e+03]\n",
      " [1.0e+00 0.0e+00 0.0e+00 3.6e+03]\n",
      " [1.0e+00 0.0e+00 0.0e+00 4.0e+03]\n",
      " [0.0e+00 0.0e+00 1.0e+00 2.6e+03]\n",
      " [0.0e+00 0.0e+00 1.0e+00 2.8e+03]\n",
      " [0.0e+00 0.0e+00 1.0e+00 3.3e+03]\n",
      " [0.0e+00 0.0e+00 1.0e+00 3.6e+03]\n",
      " [0.0e+00 1.0e+00 0.0e+00 2.6e+03]\n",
      " [0.0e+00 1.0e+00 0.0e+00 2.9e+03]\n",
      " [0.0e+00 1.0e+00 0.0e+00 3.1e+03]\n",
      " [0.0e+00 1.0e+00 0.0e+00 3.6e+03]]\n"
     ]
    }
   ],
   "source": [
    "from sklearn.preprocessing import OneHotEncoder\n",
    "from sklearn.compose import ColumnTransformer\n",
    "\n",
    "# Apply ColumnTransformer() to use the OneHotEncoder method/operation\n",
    "ct = ColumnTransformer([(\"encode\",OneHotEncoder(),[0])],remainder='passthrough') # for [(1st parameter,2nd parameter,3rd parameter,),remainder=4th parameter], the 1st parameter is any name you want to put for the operation, 2nd parameter is the type of operation you want to perform, 3rd parameter is the index of column of a given data frame which will be applied with the operation, 4th parameter is 'passthrough' to remain all the unspecified columns\n",
    "\n",
    "X_ohe = ct.fit_transform(X_ohe) # apply the ColumnTransformer on X_ohe variable based on the specified rule, to get dummy variables for each entry of the category variable\n",
    "print(X_ohe) # the first 3 columns are the dummy variables for the town, the last column is area\n"
   ]
  },
  {
   "cell_type": "code",
   "execution_count": 15,
   "metadata": {},
   "outputs": [
    {
     "name": "stdout",
     "output_type": "stream",
     "text": [
      "[[0.0e+00 0.0e+00 2.6e+03]\n",
      " [0.0e+00 0.0e+00 3.0e+03]\n",
      " [0.0e+00 0.0e+00 3.2e+03]\n",
      " [0.0e+00 0.0e+00 3.6e+03]\n",
      " [0.0e+00 0.0e+00 4.0e+03]\n",
      " [0.0e+00 1.0e+00 2.6e+03]\n",
      " [0.0e+00 1.0e+00 2.8e+03]\n",
      " [0.0e+00 1.0e+00 3.3e+03]\n",
      " [0.0e+00 1.0e+00 3.6e+03]\n",
      " [1.0e+00 0.0e+00 2.6e+03]\n",
      " [1.0e+00 0.0e+00 2.9e+03]\n",
      " [1.0e+00 0.0e+00 3.1e+03]\n",
      " [1.0e+00 0.0e+00 3.6e+03]]\n"
     ]
    }
   ],
   "source": [
    "# drop a column of dummy variable to avoid dummy variable trap\n",
    "X_ohe = X_ohe[:,1:] # Take all the rows from the Column 1 to the last column (ignore the 1st column called Column 0, represents monroe township), then assign back to the same variable X_ohe\n",
    "print(X_ohe) # [[town encoder value 1,town encoder value 2]] -> [[0,0]] for monroe township; [[0,1]] for west windsor; [[1,0]] for robinsville\n"
   ]
  },
  {
   "cell_type": "markdown",
   "metadata": {},
   "source": [
    "#### Develop a linear regression model\n",
    "\n",
    "Predict the dependent variable (price) based on the independent variables (area and hometown name)"
   ]
  },
  {
   "cell_type": "code",
   "execution_count": 16,
   "metadata": {},
   "outputs": [
    {
     "name": "stdout",
     "output_type": "stream",
     "text": [
      "0.9573929037221873\n"
     ]
    }
   ],
   "source": [
    "model_ohe = LinearRegression() # created a linear regression model\n",
    "model_ohe.fit(X_ohe,Y_ohe) # train the machine learning model (linear regression model)\n",
    "\n",
    "print(model_ohe.score(X_ohe,Y_ohe)) # calculate the score/performance of the trained model. It firstly calculates the predicted values for all rows (instances) in X, then compare the predicted values with the actual/ground truth values in Y. Then, use some formula to calculate the score."
   ]
  },
  {
   "cell_type": "markdown",
   "metadata": {},
   "source": [
    "#### Apply the trained machine learning model (linear regression model)"
   ]
  },
  {
   "cell_type": "code",
   "execution_count": 17,
   "metadata": {},
   "outputs": [
    {
     "name": "stdout",
     "output_type": "stream",
     "text": [
      "[590775.63964739]\n"
     ]
    }
   ],
   "source": [
    "print(model_ohe.predict([[1,0,2800]])) # predict the price of a home with area of 2800 sqr ft in hometown of robinsville). According to the independent variable format used in training, [[town encoder value 1,town encoder value 2,area]]\n"
   ]
  },
  {
   "cell_type": "code",
   "execution_count": 18,
   "metadata": {},
   "outputs": [
    {
     "name": "stdout",
     "output_type": "stream",
     "text": [
      "[681241.6684584]\n"
     ]
    }
   ],
   "source": [
    "print(model_ohe.predict([[0,1,3400,]])) # predict the price of a home with area of 3400 sqr ft in hometown of west windsor). According to the independent variable format used in training, [[town encoder value 1,town encoder value 2,area]]\n"
   ]
  }
 ],
 "metadata": {
  "kernelspec": {
   "display_name": "Python 3",
   "language": "python",
   "name": "python3"
  },
  "language_info": {
   "codemirror_mode": {
    "name": "ipython",
    "version": 3
   },
   "file_extension": ".py",
   "mimetype": "text/x-python",
   "name": "python",
   "nbconvert_exporter": "python",
   "pygments_lexer": "ipython3",
   "version": "3.12.3"
  }
 },
 "nbformat": 4,
 "nbformat_minor": 2
}
