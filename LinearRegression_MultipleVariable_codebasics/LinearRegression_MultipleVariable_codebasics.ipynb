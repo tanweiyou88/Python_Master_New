{
 "cells": [
  {
   "cell_type": "markdown",
   "metadata": {},
   "source": [
    "# Develop a simple linear regression model using multiple variables\n",
    "Link to the Youtube video tutorial: https://www.youtube.com/watch?v=J_LnPL3Qg70&list=PLeo1K3hjS3uvCeTYTeyfe0-rN5r8zn9rw&index=3&t=2s\n"
   ]
  },
  {
   "cell_type": "code",
   "execution_count": 1,
   "metadata": {},
   "outputs": [],
   "source": [
    "import pandas as pd\n",
    "import numpy as np\n",
    "from sklearn import linear_model"
   ]
  },
  {
   "cell_type": "markdown",
   "metadata": {},
   "source": [
    "## Training data preparation\n",
    "Load the data (training data) available in the CSV file into pandas data frame"
   ]
  },
  {
   "cell_type": "code",
   "execution_count": 2,
   "metadata": {},
   "outputs": [
    {
     "name": "stdout",
     "output_type": "stream",
     "text": [
      "   area  bedrooms  age   price\n",
      "0  2600       3.0   20  550000\n",
      "1  3000       4.0   15  565000\n",
      "2  3200       NaN   18  610000\n",
      "3  3600       3.0   30  595000\n",
      "4  4000       5.0    8  760000\n"
     ]
    }
   ],
   "source": [
    "df = pd.read_csv(\"homeprices.csv\") # Load the training data into pandas data frame called df\n",
    "print(df) # NaN shows that the cell does not have an entry/data/is empty"
   ]
  },
  {
   "cell_type": "markdown",
   "metadata": {},
   "source": [
    "### Training data preprocessing \n",
    "Before training any machine learning model, you need to preprocess your data to fix the problems/errors in your data\n",
    "\n",
    "Data preprocessing method here:\n",
    "Take the median of the entire column (which has an empty cell) and put it to the empty cell (Taking median might be a safe assumption here)"
   ]
  },
  {
   "cell_type": "code",
   "execution_count": 3,
   "metadata": {},
   "outputs": [
    {
     "name": "stdout",
     "output_type": "stream",
     "text": [
      "3.5\n",
      "3\n",
      "0    3.0\n",
      "1    4.0\n",
      "2    3.0\n",
      "3    3.0\n",
      "4    5.0\n",
      "Name: bedrooms, dtype: float64\n",
      "   area  bedrooms  age   price\n",
      "0  2600       3.0   20  550000\n",
      "1  3000       4.0   15  565000\n",
      "2  3200       3.0   18  610000\n",
      "3  3600       3.0   30  595000\n",
      "4  4000       5.0    8  760000\n"
     ]
    }
   ],
   "source": [
    "# .median() computes the median value of the specified column in a pandas data frame\n",
    "m = df.bedrooms.median() # compute the median of the column called bedrooms of the data frame called df\n",
    "print(m) # show the computed median value\n",
    "\n",
    "# to keep the result as integer\n",
    "import math\n",
    "median_bedrooms=math.floor(m) # math.floor always rounds down the given value\n",
    "print(median_bedrooms) # show the result is rounded down into an integer\n",
    "\n",
    "# .fillna() fills the empty cell (NaN) of the specified column with the input (value given as the argument)\n",
    "f = df.bedrooms.fillna(median_bedrooms) # fill the empty cell of the column called bedrooms of the data frame called df with the rounded down median value\n",
    "print(f) # show the empty cell of the column called bedrooms in the data frame called df is filled with the rounded down median value\n",
    "\n",
    "df.bedrooms = f # assign the filled column back to the original bedrooms column of the data frame called df (update the data frame called df)\n",
    "print(df)"
   ]
  },
  {
   "cell_type": "markdown",
   "metadata": {},
   "source": [
    "### Train a linear regression model with training data available"
   ]
  },
  {
   "cell_type": "code",
   "execution_count": 4,
   "metadata": {},
   "outputs": [
    {
     "name": "stdout",
     "output_type": "stream",
     "text": [
      "[   137.25 -26025.    -6825.  ]\n",
      "383724.9999999998\n"
     ]
    }
   ],
   "source": [
    "reg = linear_model.LinearRegression() # create a linear regression object (linear regression model)\n",
    "reg.fit(df[['area','bedrooms','age']],df.price) # Train the linear regression model. The first argument (independent variable of training data) has to be 2D array. Here, the first argument (independent variables) are the data frames which only contains area, bedrooms and age respectively. The second argument/target variable (dependent variable of training data) is price.\n",
    "\n",
    "print(reg.coef_) # show the computed coefficients/weights for the independent variables respectively\n",
    "print(reg.intercept_) # show the computed intercept of the model\n"
   ]
  },
  {
   "cell_type": "markdown",
   "metadata": {},
   "source": [
    "Verify the trained model (by observing the trends between each independent variable and the dependent variable)\n"
   ]
  },
  {
   "cell_type": "code",
   "execution_count": 5,
   "metadata": {},
   "outputs": [
    {
     "name": "stderr",
     "output_type": "stream",
     "text": [
      "c:\\Users\\weiyo\\AppData\\Local\\Programs\\Python\\Python312\\Lib\\site-packages\\sklearn\\base.py:493: UserWarning: X does not have valid feature names, but LinearRegression was fitted with feature names\n",
      "  warnings.warn(\n"
     ]
    },
    {
     "data": {
      "text/plain": [
       "array([418375.])"
      ]
     },
     "execution_count": 5,
     "metadata": {},
     "output_type": "execute_result"
    }
   ],
   "source": [
    "reg.predict([[3000,4,40]]) # input area of 3000, bedrooms of 3, and age of 40 to predict the price\n",
    "# The predicted price is 418375. The trend of this prediction is correct compared to 2nd row of the training dataset. Because the trend observed from this dataset is as: Given all independent variables are fixed except age, the higher the age, the lower the price."
   ]
  },
  {
   "cell_type": "code",
   "execution_count": 6,
   "metadata": {},
   "outputs": [
    {
     "name": "stdout",
     "output_type": "stream",
     "text": [
      "418374.9999999998\n"
     ]
    }
   ],
   "source": [
    "# verify the model mathematically\n",
    "p = 137.25*3000 + -26025*4 + -6825*40 + 383724.9999999998\n",
    "print(p)"
   ]
  }
 ],
 "metadata": {
  "kernelspec": {
   "display_name": "Python 3",
   "language": "python",
   "name": "python3"
  },
  "language_info": {
   "codemirror_mode": {
    "name": "ipython",
    "version": 3
   },
   "file_extension": ".py",
   "mimetype": "text/x-python",
   "name": "python",
   "nbconvert_exporter": "python",
   "pygments_lexer": "ipython3",
   "version": "3.12.3"
  }
 },
 "nbformat": 4,
 "nbformat_minor": 2
}
